{
 "cells": [
  {
   "cell_type": "code",
   "execution_count": 3,
   "metadata": {},
   "outputs": [],
   "source": [
    "import pandas as pd\n",
    "from sqlalchemy import create_engine, inspect\n",
    "import os"
   ]
  },
  {
   "cell_type": "code",
   "execution_count": 23,
   "metadata": {},
   "outputs": [],
   "source": [
    "partysummarypath = os.path.join('output','PartySummary.csv')\n",
    "partypropertiespath = os.path.join('output', 'PartyProperties.csv')\n",
    "sentimentscorespath = os.path.join('output', 'SentimentScores.csv')\n",
    "indiageneralelectionpath = os.path.join('output', 'IndianGeneralElectionData.csv')\n",
    "partyleaderratingspath = os.path.join('output', 'Party_Leader_Ratings_googleTrends.csv')\n",
    "partyratingspath = os.path.join('output', 'Party_Rating_googleTrends.csv')"
   ]
  },
  {
   "cell_type": "code",
   "execution_count": 13,
   "metadata": {},
   "outputs": [],
   "source": [
    "database_path = os.path.join('output','IndiaElectionDB.sqlite')"
   ]
  },
  {
   "cell_type": "code",
   "execution_count": 7,
   "metadata": {},
   "outputs": [],
   "source": [
    "engine = create_engine(f\"sqlite:///{database_path}\")"
   ]
  },
  {
   "cell_type": "code",
   "execution_count": 24,
   "metadata": {},
   "outputs": [],
   "source": [
    "partysummarydf = pd.read_csv(partysummarypath, encoding = \"ISO-8859-1\")\n",
    "partypropertiesdf = pd.read_csv(partypropertiespath, encoding = \"ISO-8859-1\")\n",
    "sentimentscores = pd.read_csv(sentimentscorespath, encoding = \"ISO-8859-1\")\n",
    "indiageneralelection = pd.read_csv(indiageneralelectionpath, encoding = \"ISO-8859-1\")\n",
    "partyleaderratingspath = pd.read_csv(partyleaderratingspath, encoding = \"ISO-8859-1\")\n",
    "partyratingspath = pd.read_csv(partyratingspath, encoding = \"ISO-8859-1\")"
   ]
  },
  {
   "cell_type": "code",
   "execution_count": 26,
   "metadata": {},
   "outputs": [],
   "source": [
    "df.to_sql(name='PartySummary', con=engine, if_exists='append', index=False)\n",
    "df.to_sql(name='PartyProperties', con=engine, if_exists='append', index=False)\n",
    "df.to_sql(name='SentimentScores', con=engine, if_exists='append', index=False)\n",
    "df.to_sql(name='IndiaGeneralElection', con=engine, if_exists='append', index=False)\n",
    "df.to_sql(name='PartyLeaderRatings', con=engine, if_exists='append', index=False)\n",
    "df.to_sql(name='PartyRatings', con=engine, if_exists='append', index=False)"
   ]
  },
  {
   "cell_type": "code",
   "execution_count": 29,
   "metadata": {},
   "outputs": [
    {
     "data": {
      "text/html": [
       "<div>\n",
       "<style scoped>\n",
       "    .dataframe tbody tr th:only-of-type {\n",
       "        vertical-align: middle;\n",
       "    }\n",
       "\n",
       "    .dataframe tbody tr th {\n",
       "        vertical-align: top;\n",
       "    }\n",
       "\n",
       "    .dataframe thead th {\n",
       "        text-align: right;\n",
       "    }\n",
       "</style>\n",
       "<table border=\"1\" class=\"dataframe\">\n",
       "  <thead>\n",
       "    <tr style=\"text-align: right;\">\n",
       "      <th></th>\n",
       "      <th>Code</th>\n",
       "      <th>Party</th>\n",
       "      <th>Total Contestants</th>\n",
       "      <th>Won</th>\n",
       "      <th>Second</th>\n",
       "      <th>Third</th>\n",
       "      <th>Party Votes</th>\n",
       "      <th>Valid Votes %</th>\n",
       "      <th>Valid Votes % (Contested)</th>\n",
       "      <th>AC Leads</th>\n",
       "      <th>AC Second</th>\n",
       "      <th>AC Third</th>\n",
       "    </tr>\n",
       "  </thead>\n",
       "  <tbody>\n",
       "    <tr>\n",
       "      <th>0</th>\n",
       "      <td>BJP</td>\n",
       "      <td>Bharatiya Janta Party</td>\n",
       "      <td>428</td>\n",
       "      <td>282</td>\n",
       "      <td>54</td>\n",
       "      <td>78</td>\n",
       "      <td>171657549</td>\n",
       "      <td>31.3%</td>\n",
       "      <td>40%</td>\n",
       "      <td>1883</td>\n",
       "      <td>550</td>\n",
       "      <td>601</td>\n",
       "    </tr>\n",
       "    <tr>\n",
       "      <th>1</th>\n",
       "      <td>INC</td>\n",
       "      <td>Indian National Congress</td>\n",
       "      <td>464</td>\n",
       "      <td>44</td>\n",
       "      <td>224</td>\n",
       "      <td>66</td>\n",
       "      <td>106938242</td>\n",
       "      <td>19.5%</td>\n",
       "      <td>22.6%</td>\n",
       "      <td>550</td>\n",
       "      <td>1748</td>\n",
       "      <td>531</td>\n",
       "    </tr>\n",
       "    <tr>\n",
       "      <th>2</th>\n",
       "      <td>AIADMK</td>\n",
       "      <td>All India Anna Dravida Munnetra Kazhagam</td>\n",
       "      <td>40</td>\n",
       "      <td>37</td>\n",
       "      <td>1</td>\n",
       "      <td>2</td>\n",
       "      <td>18115825</td>\n",
       "      <td>3.3%</td>\n",
       "      <td>44.4%</td>\n",
       "      <td>222</td>\n",
       "      <td>16</td>\n",
       "      <td>24</td>\n",
       "    </tr>\n",
       "    <tr>\n",
       "      <th>3</th>\n",
       "      <td>AITC</td>\n",
       "      <td>All India Trinamool Congress</td>\n",
       "      <td>131</td>\n",
       "      <td>34</td>\n",
       "      <td>3</td>\n",
       "      <td>7</td>\n",
       "      <td>21259681</td>\n",
       "      <td>3.9%</td>\n",
       "      <td>15.4%</td>\n",
       "      <td>215</td>\n",
       "      <td>55</td>\n",
       "      <td>90</td>\n",
       "    </tr>\n",
       "    <tr>\n",
       "      <th>4</th>\n",
       "      <td>BJD</td>\n",
       "      <td>Biju Janata Dal</td>\n",
       "      <td>21</td>\n",
       "      <td>20</td>\n",
       "      <td>1</td>\n",
       "      <td>0</td>\n",
       "      <td>9491497</td>\n",
       "      <td>1.7%</td>\n",
       "      <td>44.8%</td>\n",
       "      <td>116</td>\n",
       "      <td>26</td>\n",
       "      <td>5</td>\n",
       "    </tr>\n",
       "  </tbody>\n",
       "</table>\n",
       "</div>"
      ],
      "text/plain": [
       "     Code                                     Party  Total Contestants  Won  \\\n",
       "0     BJP                     Bharatiya Janta Party                428  282   \n",
       "1     INC                  Indian National Congress                464   44   \n",
       "2  AIADMK  All India Anna Dravida Munnetra Kazhagam                 40   37   \n",
       "3    AITC              All India Trinamool Congress                131   34   \n",
       "4     BJD                           Biju Janata Dal                 21   20   \n",
       "\n",
       "   Second  Third  Party Votes Valid Votes % Valid Votes % (Contested)  \\\n",
       "0      54     78    171657549         31.3%                       40%   \n",
       "1     224     66    106938242         19.5%                     22.6%   \n",
       "2       1      2     18115825          3.3%                     44.4%   \n",
       "3       3      7     21259681          3.9%                     15.4%   \n",
       "4       1      0      9491497          1.7%                     44.8%   \n",
       "\n",
       "   AC Leads  AC Second  AC Third  \n",
       "0      1883        550       601  \n",
       "1       550       1748       531  \n",
       "2       222         16        24  \n",
       "3       215         55        90  \n",
       "4       116         26         5  "
      ]
     },
     "execution_count": 29,
     "metadata": {},
     "output_type": "execute_result"
    }
   ],
   "source": [
    "pd.read_sql('SELECT * from PartyRatings', con=engine).head()"
   ]
  },
  {
   "cell_type": "code",
   "execution_count": null,
   "metadata": {},
   "outputs": [],
   "source": []
  }
 ],
 "metadata": {
  "kernelspec": {
   "display_name": "Python 3",
   "language": "python",
   "name": "python3"
  },
  "language_info": {
   "codemirror_mode": {
    "name": "ipython",
    "version": 3
   },
   "file_extension": ".py",
   "mimetype": "text/x-python",
   "name": "python",
   "nbconvert_exporter": "python",
   "pygments_lexer": "ipython3",
   "version": "3.7.3"
  }
 },
 "nbformat": 4,
 "nbformat_minor": 2
}
