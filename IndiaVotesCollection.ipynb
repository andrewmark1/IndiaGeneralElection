{
 "cells": [
  {
   "cell_type": "markdown",
   "metadata": {},
   "source": [
    "## 2014 Data"
   ]
  },
  {
   "cell_type": "code",
   "execution_count": 28,
   "metadata": {},
   "outputs": [],
   "source": [
    "import pandas as pd\n",
    "import requests\n",
    "import os\n",
    "from selenium import webdriver"
   ]
  },
  {
   "cell_type": "code",
   "execution_count": 53,
   "metadata": {},
   "outputs": [],
   "source": [
    "browser = webdriver.Chrome()"
   ]
  },
  {
   "cell_type": "code",
   "execution_count": 60,
   "metadata": {},
   "outputs": [],
   "source": [
    "url = 'http://www.indiavotes.com/pc/party_list/0/16'"
   ]
  },
  {
   "cell_type": "code",
   "execution_count": 61,
   "metadata": {},
   "outputs": [],
   "source": [
    "data = browser.get(url)"
   ]
  },
  {
   "cell_type": "code",
   "execution_count": 90,
   "metadata": {},
   "outputs": [],
   "source": [
    "innerHTML = browser.execute_script(\"return document.body.innerHTML;\")"
   ]
  },
  {
   "cell_type": "code",
   "execution_count": 91,
   "metadata": {},
   "outputs": [],
   "source": [
    "tables = pd.read_html(innerHTML)"
   ]
  },
  {
   "cell_type": "code",
   "execution_count": 92,
   "metadata": {},
   "outputs": [],
   "source": [
    "votes = tables[0]"
   ]
  },
  {
   "cell_type": "code",
   "execution_count": 93,
   "metadata": {},
   "outputs": [],
   "source": [
    "votes.columns = [x[1] for x in votes.columns]"
   ]
  },
  {
   "cell_type": "code",
   "execution_count": 94,
   "metadata": {},
   "outputs": [],
   "source": [
    "votesdf = votes[:9]"
   ]
  },
  {
   "cell_type": "code",
   "execution_count": 95,
   "metadata": {},
   "outputs": [
    {
     "name": "stderr",
     "output_type": "stream",
     "text": [
      "C:\\Users\\andrewd\\AppData\\Local\\Continuum\\anaconda3\\lib\\site-packages\\ipykernel_launcher.py:1: SettingWithCopyWarning: \n",
      "A value is trying to be set on a copy of a slice from a DataFrame.\n",
      "Try using .loc[row_indexer,col_indexer] = value instead\n",
      "\n",
      "See the caveats in the documentation: http://pandas.pydata.org/pandas-docs/stable/indexing.html#indexing-view-versus-copy\n",
      "  \"\"\"Entry point for launching an IPython kernel.\n"
     ]
    }
   ],
   "source": [
    "votesdf['Code'] = ['BJP','INC', 'AIADMK','AITC', 'BJD', 'SHS', 'TDP', 'TRS', 'CPI']"
   ]
  },
  {
   "cell_type": "code",
   "execution_count": 97,
   "metadata": {},
   "outputs": [
    {
     "data": {
      "text/html": [
       "<div>\n",
       "<style scoped>\n",
       "    .dataframe tbody tr th:only-of-type {\n",
       "        vertical-align: middle;\n",
       "    }\n",
       "\n",
       "    .dataframe tbody tr th {\n",
       "        vertical-align: top;\n",
       "    }\n",
       "\n",
       "    .dataframe thead th {\n",
       "        text-align: right;\n",
       "    }\n",
       "</style>\n",
       "<table border=\"1\" class=\"dataframe\">\n",
       "  <thead>\n",
       "    <tr style=\"text-align: right;\">\n",
       "      <th></th>\n",
       "      <th>#</th>\n",
       "      <th>Party</th>\n",
       "      <th>Total Contestants</th>\n",
       "      <th>Won</th>\n",
       "      <th>Second</th>\n",
       "      <th>Third</th>\n",
       "      <th>Party Votes</th>\n",
       "      <th>Valid Votes %</th>\n",
       "      <th>Valid Votes % (Contested)</th>\n",
       "      <th>AC Leads</th>\n",
       "      <th>AC Second</th>\n",
       "      <th>AC Third</th>\n",
       "      <th>Code</th>\n",
       "    </tr>\n",
       "  </thead>\n",
       "  <tbody>\n",
       "    <tr>\n",
       "      <th>0</th>\n",
       "      <td>1</td>\n",
       "      <td>Bharatiya Janta Party</td>\n",
       "      <td>428</td>\n",
       "      <td>282</td>\n",
       "      <td>54</td>\n",
       "      <td>78</td>\n",
       "      <td>171657549</td>\n",
       "      <td>31.3%</td>\n",
       "      <td>40%</td>\n",
       "      <td>1883</td>\n",
       "      <td>550</td>\n",
       "      <td>601</td>\n",
       "      <td>BJP</td>\n",
       "    </tr>\n",
       "    <tr>\n",
       "      <th>1</th>\n",
       "      <td>2</td>\n",
       "      <td>Indian National Congress</td>\n",
       "      <td>464</td>\n",
       "      <td>44</td>\n",
       "      <td>224</td>\n",
       "      <td>66</td>\n",
       "      <td>106938242</td>\n",
       "      <td>19.5%</td>\n",
       "      <td>22.6%</td>\n",
       "      <td>550</td>\n",
       "      <td>1748</td>\n",
       "      <td>531</td>\n",
       "      <td>INC</td>\n",
       "    </tr>\n",
       "    <tr>\n",
       "      <th>2</th>\n",
       "      <td>3</td>\n",
       "      <td>All India Anna Dravida Munnetra Kazhagam</td>\n",
       "      <td>40</td>\n",
       "      <td>37</td>\n",
       "      <td>1</td>\n",
       "      <td>2</td>\n",
       "      <td>18115825</td>\n",
       "      <td>3.3%</td>\n",
       "      <td>44.4%</td>\n",
       "      <td>222</td>\n",
       "      <td>16</td>\n",
       "      <td>24</td>\n",
       "      <td>AIADMK</td>\n",
       "    </tr>\n",
       "    <tr>\n",
       "      <th>3</th>\n",
       "      <td>4</td>\n",
       "      <td>All India Trinamool Congress</td>\n",
       "      <td>131</td>\n",
       "      <td>34</td>\n",
       "      <td>3</td>\n",
       "      <td>7</td>\n",
       "      <td>21259681</td>\n",
       "      <td>3.9%</td>\n",
       "      <td>15.4%</td>\n",
       "      <td>215</td>\n",
       "      <td>55</td>\n",
       "      <td>90</td>\n",
       "      <td>AITC</td>\n",
       "    </tr>\n",
       "    <tr>\n",
       "      <th>4</th>\n",
       "      <td>5</td>\n",
       "      <td>Biju Janata Dal</td>\n",
       "      <td>21</td>\n",
       "      <td>20</td>\n",
       "      <td>1</td>\n",
       "      <td>0</td>\n",
       "      <td>9491497</td>\n",
       "      <td>1.7%</td>\n",
       "      <td>44.8%</td>\n",
       "      <td>116</td>\n",
       "      <td>26</td>\n",
       "      <td>5</td>\n",
       "      <td>BJD</td>\n",
       "    </tr>\n",
       "    <tr>\n",
       "      <th>5</th>\n",
       "      <td>6</td>\n",
       "      <td>Shiv Sena</td>\n",
       "      <td>58</td>\n",
       "      <td>18</td>\n",
       "      <td>2</td>\n",
       "      <td>0</td>\n",
       "      <td>10262982</td>\n",
       "      <td>1.9%</td>\n",
       "      <td>18%</td>\n",
       "      <td>100</td>\n",
       "      <td>19</td>\n",
       "      <td>1</td>\n",
       "      <td>SHS</td>\n",
       "    </tr>\n",
       "    <tr>\n",
       "      <th>6</th>\n",
       "      <td>7</td>\n",
       "      <td>Telugu Desam</td>\n",
       "      <td>30</td>\n",
       "      <td>16</td>\n",
       "      <td>8</td>\n",
       "      <td>6</td>\n",
       "      <td>14094545</td>\n",
       "      <td>2.6%</td>\n",
       "      <td>40.5%</td>\n",
       "      <td>104</td>\n",
       "      <td>67</td>\n",
       "      <td>33</td>\n",
       "      <td>TDP</td>\n",
       "    </tr>\n",
       "    <tr>\n",
       "      <th>7</th>\n",
       "      <td>8</td>\n",
       "      <td>Telangana Rashtra Samithi</td>\n",
       "      <td>17</td>\n",
       "      <td>11</td>\n",
       "      <td>2</td>\n",
       "      <td>1</td>\n",
       "      <td>6736490</td>\n",
       "      <td>1.2%</td>\n",
       "      <td>34.9%</td>\n",
       "      <td>67</td>\n",
       "      <td>22</td>\n",
       "      <td>17</td>\n",
       "      <td>TRS</td>\n",
       "    </tr>\n",
       "    <tr>\n",
       "      <th>8</th>\n",
       "      <td>9</td>\n",
       "      <td>Communist Party Of India (MARXIST)</td>\n",
       "      <td>93</td>\n",
       "      <td>9</td>\n",
       "      <td>30</td>\n",
       "      <td>9</td>\n",
       "      <td>17986773</td>\n",
       "      <td>3.3%</td>\n",
       "      <td>18.4%</td>\n",
       "      <td>118</td>\n",
       "      <td>194</td>\n",
       "      <td>69</td>\n",
       "      <td>CPI</td>\n",
       "    </tr>\n",
       "  </tbody>\n",
       "</table>\n",
       "</div>"
      ],
      "text/plain": [
       "   #                                     Party  Total Contestants  Won  \\\n",
       "0  1                     Bharatiya Janta Party                428  282   \n",
       "1  2                  Indian National Congress                464   44   \n",
       "2  3  All India Anna Dravida Munnetra Kazhagam                 40   37   \n",
       "3  4              All India Trinamool Congress                131   34   \n",
       "4  5                           Biju Janata Dal                 21   20   \n",
       "5  6                                 Shiv Sena                 58   18   \n",
       "6  7                              Telugu Desam                 30   16   \n",
       "7  8                 Telangana Rashtra Samithi                 17   11   \n",
       "8  9        Communist Party Of India (MARXIST)                 93    9   \n",
       "\n",
       "   Second  Third  Party Votes Valid Votes % Valid Votes % (Contested)  \\\n",
       "0      54     78    171657549         31.3%                       40%   \n",
       "1     224     66    106938242         19.5%                     22.6%   \n",
       "2       1      2     18115825          3.3%                     44.4%   \n",
       "3       3      7     21259681          3.9%                     15.4%   \n",
       "4       1      0      9491497          1.7%                     44.8%   \n",
       "5       2      0     10262982          1.9%                       18%   \n",
       "6       8      6     14094545          2.6%                     40.5%   \n",
       "7       2      1      6736490          1.2%                     34.9%   \n",
       "8      30      9     17986773          3.3%                     18.4%   \n",
       "\n",
       "   AC Leads  AC Second  AC Third    Code  \n",
       "0      1883        550       601     BJP  \n",
       "1       550       1748       531     INC  \n",
       "2       222         16        24  AIADMK  \n",
       "3       215         55        90    AITC  \n",
       "4       116         26         5     BJD  \n",
       "5       100         19         1     SHS  \n",
       "6       104         67        33     TDP  \n",
       "7        67         22        17     TRS  \n",
       "8       118        194        69     CPI  "
      ]
     },
     "execution_count": 97,
     "metadata": {},
     "output_type": "execute_result"
    }
   ],
   "source": [
    "votesdf"
   ]
  },
  {
   "cell_type": "code",
   "execution_count": 67,
   "metadata": {},
   "outputs": [],
   "source": [
    "votes = votes.drop(columns='#')"
   ]
  },
  {
   "cell_type": "code",
   "execution_count": 68,
   "metadata": {},
   "outputs": [],
   "source": [
    "votes = votes.set_index('Party')"
   ]
  },
  {
   "cell_type": "code",
   "execution_count": 70,
   "metadata": {},
   "outputs": [],
   "source": [
    "votes.to_csv(os.path.join('output','PartySummary.csv'))"
   ]
  },
  {
   "cell_type": "code",
   "execution_count": null,
   "metadata": {},
   "outputs": [],
   "source": []
  }
 ],
 "metadata": {
  "kernelspec": {
   "display_name": "Python 3",
   "language": "python",
   "name": "python3"
  },
  "language_info": {
   "codemirror_mode": {
    "name": "ipython",
    "version": 3
   },
   "file_extension": ".py",
   "mimetype": "text/x-python",
   "name": "python",
   "nbconvert_exporter": "python",
   "pygments_lexer": "ipython3",
   "version": "3.6.5"
  }
 },
 "nbformat": 4,
 "nbformat_minor": 2
}
