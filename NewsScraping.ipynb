{
 "cells": [
  {
   "cell_type": "code",
   "execution_count": 63,
   "metadata": {},
   "outputs": [],
   "source": [
    "from bs4 import BeautifulSoup as bs\n",
    "from splinter import Browser\n",
    "from google.cloud import language\n",
    "from google.cloud.language import enums\n",
    "from google.cloud.language import types\n",
    "import requests\n",
    "from creds import google_api_key\n",
    "import os\n",
    "import pandas as pd"
   ]
  },
  {
   "cell_type": "code",
   "execution_count": 61,
   "metadata": {},
   "outputs": [],
   "source": [
    "partysummary = os.path.join('output','PartySummary.csv')"
   ]
  },
  {
   "cell_type": "code",
   "execution_count": 67,
   "metadata": {},
   "outputs": [],
   "source": [
    "df = pd.read_csv(partysummary)"
   ]
  },
  {
   "cell_type": "code",
   "execution_count": 68,
   "metadata": {
    "scrolled": true
   },
   "outputs": [
    {
     "data": {
      "text/html": [
       "<div>\n",
       "<style scoped>\n",
       "    .dataframe tbody tr th:only-of-type {\n",
       "        vertical-align: middle;\n",
       "    }\n",
       "\n",
       "    .dataframe tbody tr th {\n",
       "        vertical-align: top;\n",
       "    }\n",
       "\n",
       "    .dataframe thead th {\n",
       "        text-align: right;\n",
       "    }\n",
       "</style>\n",
       "<table border=\"1\" class=\"dataframe\">\n",
       "  <thead>\n",
       "    <tr style=\"text-align: right;\">\n",
       "      <th></th>\n",
       "      <th>Party</th>\n",
       "      <th>Total Contestants</th>\n",
       "      <th>Won</th>\n",
       "      <th>Second</th>\n",
       "      <th>Third</th>\n",
       "      <th>Party Votes</th>\n",
       "      <th>Valid Votes %</th>\n",
       "      <th>Valid Votes % (Contested)</th>\n",
       "      <th>AC Leads</th>\n",
       "      <th>AC Second</th>\n",
       "      <th>AC Third</th>\n",
       "    </tr>\n",
       "  </thead>\n",
       "  <tbody>\n",
       "    <tr>\n",
       "      <th>0</th>\n",
       "      <td>Bharatiya Janta Party</td>\n",
       "      <td>428</td>\n",
       "      <td>282</td>\n",
       "      <td>54</td>\n",
       "      <td>78</td>\n",
       "      <td>171657549</td>\n",
       "      <td>31.3%</td>\n",
       "      <td>40%</td>\n",
       "      <td>1883</td>\n",
       "      <td>550</td>\n",
       "      <td>601</td>\n",
       "    </tr>\n",
       "    <tr>\n",
       "      <th>1</th>\n",
       "      <td>Indian National Congress</td>\n",
       "      <td>464</td>\n",
       "      <td>44</td>\n",
       "      <td>224</td>\n",
       "      <td>66</td>\n",
       "      <td>106938242</td>\n",
       "      <td>19.5%</td>\n",
       "      <td>22.6%</td>\n",
       "      <td>550</td>\n",
       "      <td>1748</td>\n",
       "      <td>531</td>\n",
       "    </tr>\n",
       "    <tr>\n",
       "      <th>2</th>\n",
       "      <td>All India Anna Dravida Munnetra Kazhagam</td>\n",
       "      <td>40</td>\n",
       "      <td>37</td>\n",
       "      <td>1</td>\n",
       "      <td>2</td>\n",
       "      <td>18115825</td>\n",
       "      <td>3.3%</td>\n",
       "      <td>44.4%</td>\n",
       "      <td>222</td>\n",
       "      <td>16</td>\n",
       "      <td>24</td>\n",
       "    </tr>\n",
       "    <tr>\n",
       "      <th>3</th>\n",
       "      <td>All India Trinamool Congress</td>\n",
       "      <td>131</td>\n",
       "      <td>34</td>\n",
       "      <td>3</td>\n",
       "      <td>7</td>\n",
       "      <td>21259681</td>\n",
       "      <td>3.9%</td>\n",
       "      <td>15.4%</td>\n",
       "      <td>215</td>\n",
       "      <td>55</td>\n",
       "      <td>90</td>\n",
       "    </tr>\n",
       "    <tr>\n",
       "      <th>4</th>\n",
       "      <td>Biju Janata Dal</td>\n",
       "      <td>21</td>\n",
       "      <td>20</td>\n",
       "      <td>1</td>\n",
       "      <td>0</td>\n",
       "      <td>9491497</td>\n",
       "      <td>1.7%</td>\n",
       "      <td>44.8%</td>\n",
       "      <td>116</td>\n",
       "      <td>26</td>\n",
       "      <td>5</td>\n",
       "    </tr>\n",
       "  </tbody>\n",
       "</table>\n",
       "</div>"
      ],
      "text/plain": [
       "                                      Party  Total Contestants  Won  Second  \\\n",
       "0                     Bharatiya Janta Party                428  282      54   \n",
       "1                  Indian National Congress                464   44     224   \n",
       "2  All India Anna Dravida Munnetra Kazhagam                 40   37       1   \n",
       "3              All India Trinamool Congress                131   34       3   \n",
       "4                           Biju Janata Dal                 21   20       1   \n",
       "\n",
       "   Third  Party Votes Valid Votes % Valid Votes % (Contested)  AC Leads  \\\n",
       "0     78    171657549         31.3%                       40%      1883   \n",
       "1     66    106938242         19.5%                     22.6%       550   \n",
       "2      2     18115825          3.3%                     44.4%       222   \n",
       "3      7     21259681          3.9%                     15.4%       215   \n",
       "4      0      9491497          1.7%                     44.8%       116   \n",
       "\n",
       "   AC Second  AC Third  \n",
       "0        550       601  \n",
       "1       1748       531  \n",
       "2         16        24  \n",
       "3         55        90  \n",
       "4         26         5  "
      ]
     },
     "execution_count": 68,
     "metadata": {},
     "output_type": "execute_result"
    }
   ],
   "source": [
    "df.head()"
   ]
  },
  {
   "cell_type": "code",
   "execution_count": 74,
   "metadata": {},
   "outputs": [],
   "source": [
    "urls = []\n",
    "for x in range(0,9):\n",
    "    urls.append('https://www.google.com/search?source=lnms&tbm=nws&q='+ df['Party'][x].replace(' ','+'))"
   ]
  },
  {
   "cell_type": "code",
   "execution_count": 77,
   "metadata": {},
   "outputs": [],
   "source": [
    "all_list = []\n",
    "\n",
    "for url in urls:\n",
    "    webpage = requests.get(url)\n",
    "    soup = bs(webpage.text, 'lxml')\n",
    "    results = soup.find_all('h3', class_ = 'r')\n",
    "    \n",
    "    news_headlines = []\n",
    "    for x in range(len(results)):\n",
    "        news_headlines.append((results[x].text))\n",
    "    all_list.append(news_headlines)"
   ]
  },
  {
   "cell_type": "code",
   "execution_count": 82,
   "metadata": {},
   "outputs": [],
   "source": [
    "mydict = {}\n",
    "\n",
    "for x in range(len(all_list)):\n",
    "    mydict[df['Party'][x]] = all_list[x]"
   ]
  },
  {
   "cell_type": "code",
   "execution_count": 83,
   "metadata": {
    "scrolled": true
   },
   "outputs": [
    {
     "data": {
      "text/plain": [
       "{'Bharatiya Janta Party': [\"'Mahagathbandhan' isn't a challenge for Bharatiya Janata Party ...\",\n",
       "  \"India's Ruling Party to Get Majority With Allies, Leader Says\",\n",
       "  'Caste to play main role in Bihar 5th phase polls',\n",
       "  'India elections: BJP leader killed in India-administered Kashmir',\n",
       "  'Disgruntled MP Udit Raj quits Bharatiya Janata Party, joins Congress',\n",
       "  'Daler Mehndi joins Bharatiya Janata Party',\n",
       "  'Back Congress, defeat Bharatiya Janata Party: BSP chief Mayawati ...',\n",
       "  \"India's BJP releases manifesto before elections\",\n",
       "  \"Gandhis hope to keep seats in 5th phase of India's elections\",\n",
       "  '9 attacks in 5 years: Arvind Kejriwal blames Bharatiya Janata Party'],\n",
       " 'Indian National Congress': ['No, this video does not show an Indian National Congress ...',\n",
       "  'What Indian Elections Could Mean for Higher Ed',\n",
       "  \"Would A Congress Party Victory In India Complicate Trump's Iran ...\",\n",
       "  'Kangana Ranaut attacks Congress on Mumbai poll day: We were ...',\n",
       "  'Indian National Congress Manifesto 2019 for Lok Sabha election',\n",
       "  'Star wars in Indian National Congress',\n",
       "  'Young Indians Helped Put Modi in Power. Can He Count On Them ...',\n",
       "  'Priyanka Chaturvedi: The unabashedly ambitious foot soldier ...',\n",
       "  \"December dinner indicated Congress, BSP won't partner\",\n",
       "  'No, this is not a photo of an Indian National Congress supporter ...'],\n",
       " 'All India Anna Dravida Munnetra Kazhagam': [\"SC agrees to hear DMK's plea against disqualification of 3 AIADMK ...\",\n",
       "  'Tamil Nadu bypolls to determine fate of AIADMK govt',\n",
       "  'Tamil Nadu Lok Sabha election: Stakes high for AIADMK, DMK',\n",
       "  'AIADMK Seeks Disqualification of Three More MLAs in Tamil Nadu',\n",
       "  'Tamil Nadu women are upset with AIADMK for neglecting the ...',\n",
       "  'EPS hopes to retain grip on western Tamil Nadu home turf',\n",
       "  'AIADMK announces a reward of Rs 15 lakh for Asian Gold medalist ...',\n",
       "  'Stalin gets irked when AIADMK acts against MLAs: CM',\n",
       "  'Politics and Protest: Who Will Win in Tamil Nadu?',\n",
       "  'Bypolls may become litmus test for Tamil Nadu government'],\n",
       " 'All India Trinamool Congress': ['Lok Sabha election 2019 Phase 5: West Bengal votes today; to see ...',\n",
       "  'The woman standing between Narendra Modi and a majority',\n",
       "  \"BJP's vote share rising in Bengal's Jangalmahal\",\n",
       "  'Trinamool confident of beating BJP challenge, BJP is equally upbeat',\n",
       "  'No, this video does not show an Indian politician pointing a gun at ...',\n",
       "  'BJP, TMC mega face-off: Battle for Bengal turns into a real battlefield ...',\n",
       "  'Elections 2019: 7 Lok Sabha Seats In West Bengal To Go To Polls In ...',\n",
       "  'TMC office vandalized, LS candidate complains to DC',\n",
       "  \"'I'll call 1000 people from UP to beat you up': BJP candidate ...\",\n",
       "  'Trinamool Congress lodges complaints with EC against CRPF ...'],\n",
       " 'Biju Janata Dal': ['Former Biju Janata Dal minister, Pradeep Maharathy arrested and ...',\n",
       "  'Election 2019: Biju Janata Dal Candidate List for Odisha',\n",
       "  'Biju Janata Dal accuses Baijayant Panda of withholding information ...',\n",
       "  'Tech manifestos 2019: Biju Janata Dal promises expansion of ...',\n",
       "  \"Odisha polls: Naveen Patnaik's call for postponing voting in Patkura ...\",\n",
       "  \"Odisha: Narendra Modi claims Biju Janata Dal's misrule is ending ...\",\n",
       "  'BJD promises marriage assistance for poor girls',\n",
       "  'Biju Janata Dal Releases Poll Manifesto with Prime Focus on ...',\n",
       "  \"'We don't need any kingmaker, have the king,' says Ram Madhav\",\n",
       "  'Women Just Love Him! Why Naveen Patnaik Is Just Unputdownable ...'],\n",
       " 'Shiv Sena': ['Burqa ban not demand of Shiv Sena or Uddhav: Sanjay Raut',\n",
       "  'Shiv Sena or Uddhav Thackeray Did Not Demand Burqa Ban ...',\n",
       "  \"Shiv Sena appoints Priyanka Chaturvedi as 'Upneta'\",\n",
       "  'BJP state chief refused to cooperate: Shiv Sena',\n",
       "  'Shiv Sena demands ban on burqa in public places to prevent terror ...',\n",
       "  'BJP opposes burqa ban demand by Shiv Sena',\n",
       "  'Shiv Sena chief Uddhav Thackeray casts his Vote in Mumbai with ...',\n",
       "  'Milind Murli Deora makes it his business to bring down Shiv Sena',\n",
       "  'Congress alleges Shiv Sena used alcohol at campaign event',\n",
       "  \"Shiv Sena slams Congress for questioning timing of JeM chief's listing\"],\n",
       " 'Telugu Desam': ['Telugu Desam will form next government, says Konathala',\n",
       "  'Vijayawada: Telugu Desam leaders review trends',\n",
       "  'Telugu Desam planning to disrupt counting: Vijaya Sai',\n",
       "  'Telugu Desam Party demands repoll in three booths',\n",
       "  'Close contest between Telugu Desam Party and YSR Congress Party',\n",
       "  \"Telugu Desam, YSRC analyse winning candidate's data\",\n",
       "  'Endgame for TDP in Telangana?',\n",
       "  \"TDP's Manifesto Promises Doles Of R\",\n",
       "  \"Telugu Desam MP's nephew jumps to death\",\n",
       "  'Telugu Desam govt. has failed on all fronts, alleges Sharmila'],\n",
       " 'Telangana Rashtra Samithi': ['Federal front: Telangana CM KCR to meet Kerala counterpart ...',\n",
       "  'Telangana Rashtra Samithi is craving for power, says DK Aruna',\n",
       "  'Rampant poaching of MLAs in Telangana: Time to relook at Anti ...',\n",
       "  'TRS will be taught a lesson: TPCC leader Ponnam Prabhakar',\n",
       "  'TRS, Cong workers clash as defected MLA attempts to campaign in ...',\n",
       "  'Stage set for first phase of MPTC, ZPTC polls today',\n",
       "  \"'Local bodies have become powerless'\",\n",
       "  'Telangana Congress moves HC against defectors who joined TRS',\n",
       "  'Opposition To Protest Goof-Up In Telangana Intermediate Exam ...',\n",
       "  \"TRS party worker sets youth's bike on fire allegedly for not wishing ...\"],\n",
       " 'Communist Party Of India (MARXIST)': ['Lok Sabha election 2019 Phase 5: West Bengal votes today; to see ...',\n",
       "  'What Indian Elections Could Mean for Higher Ed',\n",
       "  'Why is the CPI(M) reduced to spiteful frothing at the mouth?',\n",
       "  'Lok Sabha elections 2019: Left in the lurch, CPI and CPM nowhere ...',\n",
       "  \"Lok Sabha elections 2019- 'It's unfortunate that Rahul Gandhi ...\",\n",
       "  'After BJP Candidate\\'s \"Thrash Like Dogs\" Remark, Election Body ...',\n",
       "  \"Narendra Modi's song choice irks allies in Bihar\",\n",
       "  'Federal front: Telangana CM KCR to meet Kerala counterpart ...',\n",
       "  'Elections 2019: CPI(M), CPI(ML) Extend Full Support to AAP in Delhi',\n",
       "  \"Lok Sabha elections 2019: Ex-CMs, Union ministers in Jharkhand's ...\"]}"
      ]
     },
     "execution_count": 83,
     "metadata": {},
     "output_type": "execute_result"
    }
   ],
   "source": [
    "mydict"
   ]
  },
  {
   "cell_type": "markdown",
   "metadata": {},
   "source": [
    "## Sentiment Analysis using Google Language AI/Machine Learning "
   ]
  },
  {
   "cell_type": "code",
   "execution_count": 14,
   "metadata": {},
   "outputs": [],
   "source": [
    "os.environ['GOOGLE_APPLICATION_CREDENTIALS'] = 'creds.json'"
   ]
  },
  {
   "cell_type": "code",
   "execution_count": 52,
   "metadata": {},
   "outputs": [],
   "source": [
    "sentiment_list = []"
   ]
  },
  {
   "cell_type": "code",
   "execution_count": 54,
   "metadata": {},
   "outputs": [],
   "source": [
    "client = language.LanguageServiceClient()\n",
    "\n",
    "for headline in news_headlines:\n",
    "    document = types.Document(content=headline, type=enums.Document.Type.PLAIN_TEXT)\n",
    "    sentiment = client.analyze_sentiment(document=document).document_sentiment\n",
    "    sentiment_list.append(sentiment)"
   ]
  },
  {
   "cell_type": "code",
   "execution_count": 58,
   "metadata": {
    "scrolled": true
   },
   "outputs": [
    {
     "name": "stdout",
     "output_type": "stream",
     "text": [
      "'Mahagathbandhan' isn't a challenge for Bharatiya Janata Party ...: \n",
      "India's Ruling Party to Get Majority With Allies, Leader Says: \n",
      "India elections: BJP leader killed in India-administered Kashmir: \n",
      "Disgruntled MP Udit Raj quits Bharatiya Janata Party, joins Congress: magnitude: 0.4000000059604645\n",
      "score: -0.4000000059604645\n",
      "\n",
      "Daler Mehndi joins Bharatiya Janata Party: magnitude: 0.699999988079071\n",
      "score: 0.699999988079071\n",
      "\n",
      "India's BJP releases manifesto before elections: \n",
      "9 attacks in 5 years: Arvind Kejriwal blames Bharatiya Janata Party: magnitude: 0.800000011920929\n",
      "score: -0.800000011920929\n",
      "\n",
      "Gandhis hope to keep seats in 5th phase of India's elections: \n",
      "Bharatiya Janata Party's MLA candidate Nyamar Karbak warns ...: magnitude: 0.5\n",
      "score: 0.5\n",
      "\n"
     ]
    }
   ],
   "source": [
    "for x in range(0,9):\n",
    "    print(f'{news_headlines[x]}: {sentiment_list[x]}')"
   ]
  },
  {
   "cell_type": "code",
   "execution_count": null,
   "metadata": {},
   "outputs": [],
   "source": []
  }
 ],
 "metadata": {
  "kernelspec": {
   "display_name": "Python 3",
   "language": "python",
   "name": "python3"
  }
 },
 "nbformat": 4,
 "nbformat_minor": 2
}
